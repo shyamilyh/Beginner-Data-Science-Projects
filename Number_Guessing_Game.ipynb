{
  "nbformat": 4,
  "nbformat_minor": 0,
  "metadata": {
    "colab": {
      "provenance": [],
      "authorship_tag": "ABX9TyMirc85/V0g060Hq+sqwhDX",
      "include_colab_link": true
    },
    "kernelspec": {
      "name": "python3",
      "display_name": "Python 3"
    },
    "language_info": {
      "name": "python"
    }
  },
  "cells": [
    {
      "cell_type": "markdown",
      "metadata": {
        "id": "view-in-github",
        "colab_type": "text"
      },
      "source": [
        "<a href=\"https://colab.research.google.com/github/shyamilyh/Beginner-Data-Science-Projects/blob/main/Number_Guessing_Game.ipynb\" target=\"_parent\"><img src=\"https://colab.research.google.com/assets/colab-badge.svg\" alt=\"Open In Colab\"/></a>"
      ]
    },
    {
      "cell_type": "code",
      "execution_count": 1,
      "metadata": {
        "id": "jNKeuxdt2uHv"
      },
      "outputs": [],
      "source": [
        "import random"
      ]
    },
    {
      "cell_type": "code",
      "source": [
        "n = random.randrange (1,10)"
      ],
      "metadata": {
        "id": "srqyrZcT219D"
      },
      "execution_count": 2,
      "outputs": []
    },
    {
      "cell_type": "code",
      "source": [
        "guess = int (input ('Enter any number : '))\n",
        "while n!= guess:\n",
        "    if guess < n:\n",
        "      print (\"too low\")\n",
        "      guess = int(input(\"Enter number again: \"))\n",
        "    elif guess > n:\n",
        "      print (\"too high !\")\n",
        "      guess = int(input(\"Enter number again: \"))\n",
        "    else:\n",
        "      break\n",
        "print(\"you guessed it right!!\")"
      ],
      "metadata": {
        "colab": {
          "base_uri": "https://localhost:8080/"
        },
        "id": "qZUVdYQi3Iqj",
        "outputId": "d82fa711-75ad-49c4-b5f9-88f6e2b5c30d"
      },
      "execution_count": 14,
      "outputs": [
        {
          "output_type": "stream",
          "name": "stdout",
          "text": [
            "Enter any number : 4\n",
            "you guessed it right!!\n"
          ]
        }
      ]
    }
  ]
}